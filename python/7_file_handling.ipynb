{
 "cells": [
  {
   "cell_type": "code",
   "execution_count": 4,
   "metadata": {},
   "outputs": [
    {
     "name": "stdout",
     "output_type": "stream",
     "text": [
      "Hello!\n"
     ]
    }
   ],
   "source": [
    "# Open a file for reading\n",
    "with open(\"my_file.txt\", \"r\") as file:\n",
    "        contents = file.read()  # Read entire content\n",
    "        print(contents)\n"
   ]
  },
  {
   "cell_type": "markdown",
   "metadata": {},
   "source": [
    "**File Modes:**\n",
    "\n",
    "   - `'r'`: Open a file for reading (existing file required).\n",
    "   - `'w'`: Open a file for writing (existing file will be overwritten, creates a new file if it doesn't exist).\n",
    "   - `'a'`: Open a file for appending (adds new data to the end of the file, creates a new file if it doesn't exist).\n",
    "   - `'r+'`: Open a file for both reading and writing (existing file required).\n",
    "   - `'w+'`: Open a file for both reading and writing (existing file will be overwritten, creates a new file if it doesn't exist).\n",
    "   - `'a+'`: Open a file for both reading and appending (existing file required, creates a new file if it doesn't exist).\n"
   ]
  },
  {
   "cell_type": "markdown",
   "metadata": {},
   "source": []
  }
 ],
 "metadata": {
  "kernelspec": {
   "display_name": "Python 3",
   "language": "python",
   "name": "python3"
  },
  "language_info": {
   "codemirror_mode": {
    "name": "ipython",
    "version": 3
   },
   "file_extension": ".py",
   "mimetype": "text/x-python",
   "name": "python",
   "nbconvert_exporter": "python",
   "pygments_lexer": "ipython3",
   "version": "3.9.13"
  }
 },
 "nbformat": 4,
 "nbformat_minor": 2
}
