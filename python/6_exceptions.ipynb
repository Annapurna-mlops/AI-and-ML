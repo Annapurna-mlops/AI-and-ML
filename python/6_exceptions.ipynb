{
 "cells": [
  {
   "cell_type": "markdown",
   "metadata": {},
   "source": [
    "Errors and Exceptions\n",
    "--------------------\n",
    "\n",
    "**Errors:** Errors are syntax or logic mistakes within your code that prevent it from running correctly at all. They are typically detected by Python's interpreter before the program even starts to execute.\n",
    "\n",
    "**Handling:** You cannot directly catch errors with try-except blocks, as they occur before execution begins. You need to fix the syntax or logic error in your code to proceed.\n",
    "\n",
    "Two types of Error occurs in python. \n",
    " \n",
    "\n",
    "- **Syntax errors** : compiletime errors\n",
    "- **Logical errors (Exceptions)** : runtime errors\n"
   ]
  },
  {
   "cell_type": "code",
   "execution_count": null,
   "metadata": {},
   "outputs": [],
   "source": [
    "# initialize the amount variable \n",
    "amount = 10000\n",
    "\n",
    "# check that You are eligible to \n",
    "# purchase Dsa Self Paced or not \n",
    "if(amount>2999) \n",
    "\tprint(\"You are eligible to purchase Dsa Self Paced\") \n",
    "\t\n"
   ]
  },
  {
   "cell_type": "markdown",
   "metadata": {},
   "source": [
    "logical errors\n",
    "------------\n",
    "\n",
    "- **IndexError:**\tWhen the wrong index of a list is retrieved.\n",
    "- **AssertionError:**\tIt occurs when the assert statement fails\n",
    "- **AttributeError:**\tIt occurs when an attribute assignment is failed.\n",
    "- **ImportError:**\tIt occurs when an imported module is not found.\n",
    "- **KeyError:**\tIt occurs when the key of the dictionary is not found.\n",
    "- **NameError:**\tIt occurs when the variable is not defined.\n",
    "- **MemoryError:**\tIt occurs when a program runs out of memory.\n",
    "- **TypeError:**\tIt occurs when a function and operation are applied in an incorrect type."
   ]
  },
  {
   "cell_type": "code",
   "execution_count": 1,
   "metadata": {},
   "outputs": [
    {
     "ename": "NameError",
     "evalue": "name 'x' is not defined",
     "output_type": "error",
     "traceback": [
      "\u001b[0;31m---------------------------------------------------------------------------\u001b[0m",
      "\u001b[0;31mNameError\u001b[0m                                 Traceback (most recent call last)",
      "Cell \u001b[0;32mIn[1], line 2\u001b[0m\n\u001b[1;32m      1\u001b[0m \u001b[38;5;66;03m# Example of NameError\u001b[39;00m\n\u001b[0;32m----> 2\u001b[0m \u001b[38;5;28mprint\u001b[39m(\u001b[43mx\u001b[49m)\n",
      "\u001b[0;31mNameError\u001b[0m: name 'x' is not defined"
     ]
    }
   ],
   "source": [
    "# Example of NameError\n",
    "print(x)"
   ]
  },
  {
   "cell_type": "code",
   "execution_count": 2,
   "metadata": {},
   "outputs": [
    {
     "ename": "TypeError",
     "evalue": "can only concatenate str (not \"int\") to str",
     "output_type": "error",
     "traceback": [
      "\u001b[0;31m---------------------------------------------------------------------------\u001b[0m",
      "\u001b[0;31mTypeError\u001b[0m                                 Traceback (most recent call last)",
      "Cell \u001b[0;32mIn[2], line 4\u001b[0m\n\u001b[1;32m      2\u001b[0m x \u001b[38;5;241m=\u001b[39m \u001b[38;5;124m\"\u001b[39m\u001b[38;5;124mHello\u001b[39m\u001b[38;5;124m\"\u001b[39m\n\u001b[1;32m      3\u001b[0m y \u001b[38;5;241m=\u001b[39m \u001b[38;5;241m5\u001b[39m\n\u001b[0;32m----> 4\u001b[0m result \u001b[38;5;241m=\u001b[39m \u001b[43mx\u001b[49m\u001b[43m \u001b[49m\u001b[38;5;241;43m+\u001b[39;49m\u001b[43m \u001b[49m\u001b[43my\u001b[49m\n",
      "\u001b[0;31mTypeError\u001b[0m: can only concatenate str (not \"int\") to str"
     ]
    }
   ],
   "source": [
    "# Example of TypeError\n",
    "x = \"Hello\"\n",
    "y = 5\n",
    "result = x + y\n"
   ]
  },
  {
   "cell_type": "code",
   "execution_count": 3,
   "metadata": {},
   "outputs": [
    {
     "ename": "IndexError",
     "evalue": "list index out of range",
     "output_type": "error",
     "traceback": [
      "\u001b[0;31m---------------------------------------------------------------------------\u001b[0m",
      "\u001b[0;31mIndexError\u001b[0m                                Traceback (most recent call last)",
      "Cell \u001b[0;32mIn[3], line 3\u001b[0m\n\u001b[1;32m      1\u001b[0m \u001b[38;5;66;03m# Example of IndexError\u001b[39;00m\n\u001b[1;32m      2\u001b[0m my_list \u001b[38;5;241m=\u001b[39m [\u001b[38;5;241m1\u001b[39m, \u001b[38;5;241m2\u001b[39m, \u001b[38;5;241m3\u001b[39m]\n\u001b[0;32m----> 3\u001b[0m \u001b[38;5;28mprint\u001b[39m(\u001b[43mmy_list\u001b[49m\u001b[43m[\u001b[49m\u001b[38;5;241;43m3\u001b[39;49m\u001b[43m]\u001b[49m)\n",
      "\u001b[0;31mIndexError\u001b[0m: list index out of range"
     ]
    }
   ],
   "source": [
    "# Example of IndexError\n",
    "my_list = [1, 2, 3]\n",
    "print(my_list[3])\n"
   ]
  },
  {
   "cell_type": "code",
   "execution_count": 4,
   "metadata": {},
   "outputs": [
    {
     "ename": "IndentationError",
     "evalue": "expected an indented block (4150348222.py, line 3)",
     "output_type": "error",
     "traceback": [
      "\u001b[0;36m  Cell \u001b[0;32mIn[4], line 3\u001b[0;36m\u001b[0m\n\u001b[0;31m    print(i)\u001b[0m\n\u001b[0m    ^\u001b[0m\n\u001b[0;31mIndentationError\u001b[0m\u001b[0;31m:\u001b[0m expected an indented block\n"
     ]
    }
   ],
   "source": [
    "x = 5\n",
    "for i in range(x):\n",
    " print(i)\n"
   ]
  },
  {
   "cell_type": "code",
   "execution_count": 5,
   "metadata": {},
   "outputs": [
    {
     "ename": "ZeroDivisionError",
     "evalue": "division by zero",
     "output_type": "error",
     "traceback": [
      "\u001b[0;31m---------------------------------------------------------------------------\u001b[0m",
      "\u001b[0;31mZeroDivisionError\u001b[0m                         Traceback (most recent call last)",
      "Cell \u001b[0;32mIn[5], line 2\u001b[0m\n\u001b[1;32m      1\u001b[0m \u001b[38;5;66;03m# Example of ZeroDivisionError\u001b[39;00m\n\u001b[0;32m----> 2\u001b[0m result \u001b[38;5;241m=\u001b[39m \u001b[38;5;241;43m10\u001b[39;49m\u001b[43m \u001b[49m\u001b[38;5;241;43m/\u001b[39;49m\u001b[43m \u001b[49m\u001b[38;5;241;43m0\u001b[39;49m\n",
      "\u001b[0;31mZeroDivisionError\u001b[0m: division by zero"
     ]
    }
   ],
   "source": [
    "# Example of ZeroDivisionError\n",
    "result = 10 / 0\n"
   ]
  },
  {
   "cell_type": "markdown",
   "metadata": {},
   "source": [
    "Error Handling\n",
    "--------------\n",
    "**Handling Exceptions with Try/Except/else/Finally**\n",
    "\n",
    "We can handle errors by the Try/Except/else/Finally method. we write unsafe code in the try, fall back code in except and final code in finally block."
   ]
  },
  {
   "cell_type": "code",
   "execution_count": null,
   "metadata": {},
   "outputs": [],
   "source": [
    "# put unsafe operation in try block \n",
    "try: \n",
    "\tprint(\"code start\") \n",
    "\t\t\n",
    "\t# unsafe operation perform \n",
    "\tprint(1 / 0) \n",
    "\n",
    "# if error occur the it goes in except block \n",
    "except: \n",
    "\tprint(\"an error occurs\") \n",
    "\n",
    "# final code in finally block \n",
    "finally: \n",
    "\tprint(\"GeeksForGeeks\") \n"
   ]
  },
  {
   "cell_type": "code",
   "execution_count": 6,
   "metadata": {},
   "outputs": [
    {
     "name": "stdout",
     "output_type": "stream",
     "text": [
      "This statement is raising an arithmetic exception.\n"
     ]
    }
   ],
   "source": [
    "try: \n",
    "\ta = 10/0\n",
    "\tprint (a) \n",
    "except ArithmeticError: \n",
    "\t\tprint (\"This statement is raising an arithmetic exception.\") \n",
    "else: \n",
    "\tprint (\"Success.\") \n"
   ]
  },
  {
   "cell_type": "code",
   "execution_count": 7,
   "metadata": {},
   "outputs": [
    {
     "name": "stdout",
     "output_type": "stream",
     "text": [
      "Index out of bound error.\n"
     ]
    }
   ],
   "source": [
    "try: \n",
    "\ta = [1, 2, 3] \n",
    "\tprint (a[3]) \n",
    "except LookupError: \n",
    "\tprint (\"Index out of bound error.\") \n",
    "else: \n",
    "\tprint (\"Success\") \n",
    "\n"
   ]
  },
  {
   "cell_type": "code",
   "execution_count": null,
   "metadata": {},
   "outputs": [],
   "source": [
    "try:\n",
    "    # Code that might raise an exception\n",
    "except ExceptionType1:\n",
    "    # Code to handle ExceptionType1\n",
    "except ExceptionType2:\n",
    "    # Code to handle ExceptionType2\n",
    "else:\n",
    "    # Code that executes if no exception is raised\n",
    "finally:\n",
    "    # Code that always executes, regardless of exceptions (optional)\n"
   ]
  },
  {
   "cell_type": "markdown",
   "metadata": {},
   "source": [
    "\n",
    "some general categories of logical errors you might encounter when working with tabular data columns:\n",
    "\n",
    "**Data-Related Errors:**\n",
    "\n",
    "- **Missing Values:** Columns might contain missing values that haven't been handled appropriately (e.g., not represented with null values, inconsistent representation for missing data).\n",
    "- **Incorrect Data Types:** Data might be stored in the wrong type (e.g., string format for numbers that should be numeric, inconsistent date/time formats).\n",
    "- **Outliers:** Extreme values (outliers) in a column might be misrepresented or not handled appropriately based on the domain knowledge of the data.\n",
    "\n",
    "**Calculation Errors:**\n",
    "\n",
    "- **Incorrect Formulas:** Formulas used to calculate values within a column might be flawed, leading to inaccurate results.\n",
    "- **Aggregation Issues:** If you're performing calculations like sum, average, standard deviation, etc., on columns, there might be errors in how these calculations are being applied.\n",
    "- **Missing or Incorrect Filtering:** When filtering data based on certain criteria, there might be errors in the filters themselves or how they are applied to columns.\n",
    "\n",
    "**Sorting and Ordering Errors:**\n",
    "\n",
    "- **Incorrect Sorting Logic:** Columns might not be sorted as intended (e.g., ascending vs. descending, case-sensitive vs. insensitive).\n",
    "- **Missing Comparison Values:** If sorting relies on comparing values within a column, there might be missing or incorrect values used for comparison.\n",
    "- **Inconsistent Sorting Rules:** Multiple or inconsistent sorting rules might be applied to the same column, leading to unexpected ordering.\n",
    "\n",
    "**Data Representation Errors:**\n",
    "\n",
    "- **Inconsistent Formatting:** The way data is displayed in a column might be inconsistent, making it difficult to interpret or compare values across rows.\n",
    "- **Truncation Errors:** If columns have limited display width, data might be truncated (cut off), leading to loss of information.\n",
    "- **Incorrect Units:** If data represents quantities (e.g., measurements, currency), there might be errors in the units used or how they are displayed.\n",
    "\n",
    "**General Errors:**\n",
    "\n",
    "- **Logic Errors in Column Definitions:** Errors in how columns are defined within the tabler structure might lead to issues like incorrect data types, missing metadata, or problems with sorting/filtering behavior.\n",
    "- **Memory Errors:** If dealing with large datasets, there might be issues related to memory limitations when handling columns, especially if they contain large data types (e.g., images, complex objects).\n",
    "- **Performance Issues:** Depending on the number of rows and columns, or computational complexity of operations, there might be performance bottlenecks related to how columns are managed or manipulated.\n"
   ]
  },
  {
   "cell_type": "code",
   "execution_count": 8,
   "metadata": {},
   "outputs": [
    {
     "name": "stdout",
     "output_type": "stream",
     "text": [
      "Row: Alice, Column: Age - Missing value!\n",
      "Row: Charlie, Column: Age - Missing value!\n"
     ]
    }
   ],
   "source": [
    "# Sample data with missing values (represented as empty strings)\n",
    "data = [\n",
    "    [\"Alice\", 25, \"\"],  # Missing value in age column\n",
    "    [\"Bob\", 30, 180],\n",
    "    [\"Charlie\", None, 175],  # Missing value using None\n",
    "]\n",
    "\n",
    "# Assuming you're using a tabler library, iterate through columns\n",
    "\n",
    "for row in data:\n",
    "    for value in row:\n",
    "        if value == \"\":  # Check for empty string\n",
    "            print(f\"Row: {row[0]}, Column: Age - Missing value!\")\n",
    "        elif value is None:  # Check for None\n",
    "            print(f\"Row: {row[0]}, Column: Age - Missing value!\")\n"
   ]
  },
  {
   "cell_type": "code",
   "execution_count": null,
   "metadata": {},
   "outputs": [],
   "source": [
    "# Sample data with a string value in the age column (should be numeric)\n",
    "data = [\n",
    "    [\"Alice\", \"25\", 180],\n",
    "    [\"Bob\", 30, 175],\n",
    "    [\"Charlie\", \"Twenty-five\", 170],  # Incorrect data type in age\n",
    "]\n",
    "\n",
    "# Assuming you're iterating through columns\n",
    "\n",
    "for row in data:\n",
    "    try:\n",
    "        # Attempt to convert age to integer\n",
    "        row[1] = int(row[1])\n",
    "    except ValueError:\n",
    "        print(f\"Row: {row[0]}, Column: Age - Incorrect data type (string)!\")\n"
   ]
  },
  {
   "cell_type": "code",
   "execution_count": null,
   "metadata": {},
   "outputs": [],
   "source": [
    "# Sample data with a potential outlier in the height column\n",
    "data = [\n",
    "    [\"Alice\", 25, 180],\n",
    "    [\"Bob\", 30, 175],\n",
    "    [\"Charlie\", 40, 250],  # Potential outlier in height\n",
    "]\n",
    "\n",
    "# Assuming you have access to the mean and standard deviation of heights\n",
    "\n",
    "average_height = 178  # Replace with actual calculation\n",
    "std_dev = 10  # Replace with actual calculation\n",
    "\n",
    "for row in data:\n",
    "    if abs(row[2] - average_height) > 2 * std_dev:\n",
    "        print(f\"Row: {row[0]}, Column: Height - Potential outlier ({row[2]})!\")\n"
   ]
  },
  {
   "cell_type": "markdown",
   "metadata": {},
   "source": []
  },
  {
   "cell_type": "markdown",
   "metadata": {},
   "source": [
    "TO DO:\n",
    "-----\n",
    "\n",
    "- List all errors in a tabular column with description\n",
    "- reproduce each one in a program\n",
    "- handle those error in saperate cell (Have to see both error reproduce cell and handling cell)\n"
   ]
  },
  {
   "cell_type": "markdown",
   "metadata": {},
   "source": []
  }
 ],
 "metadata": {
  "kernelspec": {
   "display_name": "Python 3",
   "language": "python",
   "name": "python3"
  },
  "language_info": {
   "codemirror_mode": {
    "name": "ipython",
    "version": 3
   },
   "file_extension": ".py",
   "mimetype": "text/x-python",
   "name": "python",
   "nbconvert_exporter": "python",
   "pygments_lexer": "ipython3",
   "version": "3.9.13"
  }
 },
 "nbformat": 4,
 "nbformat_minor": 2
}
