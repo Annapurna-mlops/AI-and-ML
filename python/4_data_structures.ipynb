{
 "cells": [
  {
   "cell_type": "markdown",
   "metadata": {},
   "source": [
    "List, Tuples, Set, Dictionaries\n",
    "-------------------------------------\n",
    "\n",
    "\n",
    "Lists: Ordered and Mutable Collections\n",
    "-------------------------------------\n",
    "\n",
    "Think of lists like flexible shopping carts – you can add, remove, or change items easily.\n",
    "\n",
    "Lists are defined using square brackets [] and store elements in a specific order.\n",
    "\n",
    "Elements can be of different data types (numbers, strings, even other lists!).\n",
    "\n",
    "\n",
    "Common List Methods:\n",
    "---------------------\n",
    "\n",
    "append(element): Adds an element to the end.\n",
    "\n",
    "insert(index, element): Inserts an element at a specific index.\n",
    "\n",
    "remove(element): Removes the first occurrence of an element (by value).\n",
    "\n",
    "pop(): Removes and returns the last element.\n",
    "\n",
    "sort(): Sorts elements in ascending order (in-place modification).\n",
    "\n",
    "sorted(list): Returns a new sorted list without modifying the original.\n",
    "\n",
    "len(list): Returns the number of elements in the list.\n",
    "\n",
    "index(element): Returns the index of the first occurrence of an element (raises an error if not found)."
   ]
  },
  {
   "cell_type": "code",
   "execution_count": 35,
   "metadata": {},
   "outputs": [
    {
     "name": "stdout",
     "output_type": "stream",
     "text": [
      "bread\n",
      "\n",
      "apples\n",
      "2.5\n",
      "['milk', 'cheese']\n",
      "eggs\n",
      "\n",
      "after pop\n",
      "apples\n",
      "2.5\n",
      "['milk', 'cheese']\n",
      "\n",
      "after remove\n",
      "apples\n",
      "['milk', 'cheese']\n",
      "\n",
      "[6, 2, 8, 1, 4]\n",
      "[1, 2, 4, 6, 8]\n",
      "[8, 6, 4, 2, 1]\n",
      "banana\n",
      "orange\n",
      "['banana', 'cherry']\n"
     ]
    },
    {
     "ename": "ValueError",
     "evalue": "'any element' is not in list",
     "output_type": "error",
     "traceback": [
      "\u001b[0;31m---------------------------------------------------------------------------\u001b[0m",
      "\u001b[0;31mValueError\u001b[0m                                Traceback (most recent call last)",
      "Cell \u001b[0;32mIn[35], line 50\u001b[0m\n\u001b[1;32m     47\u001b[0m fruits \u001b[38;5;241m=\u001b[39m [\u001b[38;5;124m\"\u001b[39m\u001b[38;5;124mapple\u001b[39m\u001b[38;5;124m\"\u001b[39m, \u001b[38;5;124m\"\u001b[39m\u001b[38;5;124mbanana\u001b[39m\u001b[38;5;124m\"\u001b[39m, \u001b[38;5;124m\"\u001b[39m\u001b[38;5;124mcherry\u001b[39m\u001b[38;5;124m\"\u001b[39m, \u001b[38;5;124m\"\u001b[39m\u001b[38;5;124morange\u001b[39m\u001b[38;5;124m\"\u001b[39m, \u001b[38;5;124m\"\u001b[39m\u001b[38;5;124mbanana\u001b[39m\u001b[38;5;124m\"\u001b[39m]\n\u001b[1;32m     49\u001b[0m \u001b[38;5;66;03m# Find the index of \"banana\"\u001b[39;00m\n\u001b[0;32m---> 50\u001b[0m banana_index \u001b[38;5;241m=\u001b[39m \u001b[43mfruits\u001b[49m\u001b[38;5;241;43m.\u001b[39;49m\u001b[43mindex\u001b[49m\u001b[43m(\u001b[49m\u001b[38;5;124;43m\"\u001b[39;49m\u001b[38;5;124;43many element\u001b[39;49m\u001b[38;5;124;43m\"\u001b[39;49m\u001b[43m)\u001b[49m\n\u001b[1;32m     51\u001b[0m \u001b[38;5;28mprint\u001b[39m(banana_index)  \u001b[38;5;66;03m# Output: 1 (first occurrence of \"banana\")\u001b[39;00m\n\u001b[1;32m     53\u001b[0m \u001b[38;5;66;03m# Find the index of \"mango\" (which doesn't exist)\u001b[39;00m\n",
      "\u001b[0;31mValueError\u001b[0m: 'any element' is not in list"
     ]
    }
   ],
   "source": [
    "shopping_list = [\"apples\", \"bread\", 2.5, [\"milk\", \"cheese\"]]\n",
    "print(shopping_list[1])\n",
    "print()  # Access element at index 1 (output: bread)\n",
    "shopping_list.append(\"eggs\")  # Add an element to the end\n",
    "shopping_list.remove(\"bread\")  # Remove the first occurrence\n",
    "for list in shopping_list:\n",
    "  print(list)\n",
    "\n",
    "shopping_list.pop()\n",
    "print()\n",
    "print(\"after pop\")\n",
    "for list in shopping_list:\n",
    "  print(list)\n",
    "\n",
    "\n",
    "shopping_list.remove(2.5)\n",
    "print()\n",
    "print(\"after remove\")\n",
    "for list in shopping_list:\n",
    "  print(list)\n",
    "\n",
    "#Use sorted() when you need a new sorted list without modifying the original.\n",
    "numbers = [6, 2, 8, 1, 4]\n",
    "sorted_numbers = sorted(numbers)  # sorted_numbers will be [1, 2, 4, 6, 8]\n",
    "\n",
    "# Sorting in descending order\n",
    "reversed_numbers = sorted(numbers, reverse=True)  # reversed_numbers will be [8, 6, 4, 2, 1]\n",
    "print()\n",
    "print(numbers)  # Output: [6, 2, 8, 1, 4] (original list remains unchanged)\n",
    "print(sorted_numbers)  # Output: [1, 2, 4, 6, 8]\n",
    "print(reversed_numbers)  # Output: [8, 6, 4, 2, 1]\n",
    "\n",
    "fruits = [\"apple\", \"banana\", \"cherry\", \"orange\"]\n",
    "\n",
    "# Access the second element (banana)\n",
    "second_fruit = fruits[1]\n",
    "print(second_fruit)  # Output: banana\n",
    "\n",
    "# Access the last element (orange)\n",
    "last_fruit = fruits[-1]  # Negative indexing starts from the end (-1 is last)\n",
    "print(last_fruit)  # Output: orange\n",
    "\n",
    "# Get a sublist from index 1 (inclusive) to index 3 (exclusive)\n",
    "sublist = fruits[1:3]\n",
    "print(sublist)  # Output: ['banana', 'cherry']\n",
    "\n",
    "fruits = [\"apple\", \"banana\", \"cherry\", \"orange\", \"banana\"]\n",
    "\n",
    "# Find the index of \"banana\"\n",
    "#banana_index = fruits.index(\"any element\")\n",
    "#print(banana_index)  # Output: 1 (first occurrence of \"banana\")\n",
    "\"\"\"\n",
    "Multiple line comment\n",
    "any number of lines\n",
    "\"\"\"\n",
    "# Find the index of \"mango\" (which doesn't exist)\n",
    "try:\n",
    "  mango_index = fruits.index(\"banana\")\n",
    "except ValueError:\n",
    "  print(\"Mango not found in the list.\")\n",
    "\n",
    "print(\"continue\")\n",
    "\n"
   ]
  },
  {
   "cell_type": "code",
   "execution_count": 32,
   "metadata": {},
   "outputs": [
    {
     "name": "stdout",
     "output_type": "stream",
     "text": [
      "banana\n",
      "orange\n",
      "orange\n"
     ]
    }
   ],
   "source": [
    "fruits = [\"apple\", \"banana\", \"cherry\", \"orange\"]\n",
    "\n",
    "# Access the second element (banana)\n",
    "second_fruit = fruits[1]\n",
    "print(second_fruit)  # Output: banana\n",
    "print(fruits[len(fruits)-1])\n",
    "print(fruits[-1])"
   ]
  },
  {
   "cell_type": "code",
   "execution_count": 36,
   "metadata": {},
   "outputs": [
    {
     "name": "stdout",
     "output_type": "stream",
     "text": [
      "apple\n",
      "pear\n",
      "banana\n",
      "cherry\n",
      "orange\n",
      "[1, 2, 3, 4]\n",
      "2\n",
      "2\n"
     ]
    }
   ],
   "source": [
    "fruits = [\"apple\", \"pear\", \"banana\", \"cherry\", \"orange\"]\n",
    "number = [1,2,3,4]\n",
    "fruits.append(number)\n",
    "for list in fruits:\n",
    "  print(list)\n",
    "\n",
    "# Find the index of \"banana\" starting from index 2 (inclusive)\n",
    "try:\n",
    "  banana_index = fruits.index(\"banana\", 2)\n",
    "except ValueError:\n",
    "  print(\"Banana not found after index 1.\")\n",
    "\n",
    "# Find the index of any element between index 1 (inclusive) and 3 (exclusive)\n",
    "try:\n",
    "  index_between = fruits.index(\"banana\", 1, 3)  # try with \"any element\" to check error\n",
    "except ValueError:\n",
    "  print(\"No element found within the specified range.\")\n",
    "\n",
    "\n",
    "print(banana_index)  # Output will depend on the outcome of the try-except block\n",
    "print(index_between)  # Output will depend on the outcome of the try-except block\n"
   ]
  },
  {
   "cell_type": "markdown",
   "metadata": {},
   "source": [
    "Tuples: Ordered and Immutable Collections\n",
    "-------------------------------------------\n",
    "Tuples are like fixed shopping lists – you can't modify their contents after creation.\n",
    "\n",
    "Defined using parentheses (), tuples offer a way to store ordered sequences of elements.\n",
    "\n",
    "Elements can be of various data types, similar to lists.\n",
    "\n",
    "Use Tuples to avoids accidental modifications to data.\n",
    "\n",
    "Common Tuple Methods:\n",
    "-----------------------\n",
    "\n",
    "Tuples share many methods with lists, like len() and index().\n",
    " However, methods that modify the list (like append or remove) are not available for tuples.\n",
    "\n"
   ]
  },
  {
   "cell_type": "code",
   "execution_count": 37,
   "metadata": {},
   "outputs": [
    {
     "name": "stdout",
     "output_type": "stream",
     "text": [
      "(10, 20)\n",
      "(20, 30, 40)\n"
     ]
    }
   ],
   "source": [
    "my_tuple = (10, 20 ,30, 40)\n",
    "\n",
    "# Create a new tuple without the last element\n",
    "new_tuple = my_tuple[:-2]  # Slicing excludes the last element\n",
    "print(new_tuple)  # Output: (10, 20, 30)\n",
    "\n",
    "# Create a new tuple without the first element (alternative)\n",
    "new_tuple = my_tuple[1:]  # Slicing starts from index 1 (inclusive)\n",
    "print(new_tuple)  # Output: (20, 30, 40)\n"
   ]
  },
  {
   "cell_type": "markdown",
   "metadata": {},
   "source": [
    "Memory Addresses:\n",
    "-----------------\n",
    "\n",
    "Every object in Python resides in a specific memory location, identified by a unique memory address. This address acts like a label for the object's data.\n",
    "\n",
    "Mutable Objects: \n",
    "----------------\n",
    "When you modify a mutable object, the changes happen at the same memory address. The object itself remains the same, but its internal data is updated.\n",
    "\n",
    "Immutable Objects:\n",
    "-----------------\n",
    " Since immutable objects cannot be modified, creating a new object with the desired changes is necessary. This new object will have a different memory address.\n",
    "\n",
    "Additional Considerations:\n",
    "---------------------------\n",
    "\n",
    "Strings in Python are also immutable.\n",
    "Immutability promotes data integrity and simplifies reasoning about code, making it less prone to errors.\n",
    "Use mutable objects (like lists) when you need to modify the data within the object after creation."
   ]
  },
  {
   "cell_type": "code",
   "execution_count": null,
   "metadata": {},
   "outputs": [],
   "source": [
    "my_list = [1, 2, 3]\n",
    "print(id(my_list))  # Get the memory address of my_list (let's say it's 1234)\n",
    "\n",
    "my_list.append(4)\n",
    "print(id(my_list))  # The address remains 1234, but the data at that address has changed\n",
    "\n",
    "\n",
    "my_tuple = (1, 2, 3)\n",
    "print(id(my_tuple))  # Get the memory address of my_tuple (let's say it's 5678)\n",
    "\n",
    "new_tuple = my_tuple + (4,)  # Create a new tuple with the modification\n",
    "print(id(my_tuple))  # Address of my_tuple remains 5678\n",
    "print(id(new_tuple))  # The new tuple has a different address (since it's a new object)\n"
   ]
  },
  {
   "cell_type": "markdown",
   "metadata": {},
   "source": [
    "Sets: Unordered Collections of Unique Elements\n",
    "-----------------------------------------------\n",
    "\n",
    "Imagine sets as unique gift baskets – no duplicates allowed!\n",
    "\n",
    "Defined using curly braces {}, sets store elements that are considered unique (no duplicates).\n",
    "\n",
    "The order of elements within a set is not guaranteed.\n",
    "\n",
    "Common Set Methods:\n",
    "-------------------\n",
    "add(element): Adds an element to the set (if it's not already there).\n",
    "\n",
    "remove(element): Removes an element from the set (raises an error if not found).\n",
    "\n",
    "discard(element): Attempts to remove an element, but doesn't raise an error if not found.\n",
    "\n",
    "union(other_set): Returns a new set with elements from both sets (combines, removing duplicates).\n",
    "\n",
    "intersection(other_set): Returns a new set with elements present in both sets.\n",
    "\n",
    "difference(other_set): Returns a new set with elements in the first set but not in the second."
   ]
  },
  {
   "cell_type": "code",
   "execution_count": 23,
   "metadata": {},
   "outputs": [
    {
     "name": "stdout",
     "output_type": "stream",
     "text": [
      "{1, 2, 3, 4}\n"
     ]
    }
   ],
   "source": [
    "unique_numbers = {1, 2, 2, 3, 4}  # Duplicates (2) are automatically removed\n",
    "vowels = {'a', 'e', 'i', 'o', 'u'}\n",
    "\n",
    "# Sets don't have indexes like lists or tuples - you can't access elements by position\n",
    "print(unique_numbers)"
   ]
  },
  {
   "cell_type": "code",
   "execution_count": 42,
   "metadata": {},
   "outputs": [
    {
     "name": "stdout",
     "output_type": "stream",
     "text": [
      "{'apple', 1, 2, 3}\n",
      "{1, 2, 3, 4, 'apple'}\n",
      "{1, 2, 3, 4, 'apple'}\n",
      "\n",
      "union\n",
      "{'apple', 1, 2, 3, 4, 'cherry', 'banana'}\n",
      "True\n"
     ]
    }
   ],
   "source": [
    "my_set = {1, 2, 2, 3, \"apple\"}  # Duplicates (2) are automatically removed\n",
    "print(my_set)  # Output: {1, 2, 3, \"apple\"} (order may vary)\n",
    "\n",
    "my_set.add(4)\n",
    "print(my_set)  # {1, 2, 3, \"apple\", 4} (order may vary)\n",
    "\n",
    "#my_set.remove(2)  # Removes the first occurrence of 2\n",
    "print(my_set)  # {1, 3, \"apple\", 4} (order may vary)\n",
    "\n",
    "print()\n",
    "print(\"union\")\n",
    "other_set = {\"banana\", \"cherry\"}\n",
    "combined_set = my_set.union(other_set)\n",
    "print(combined_set)  # {1, 3, \"apple\", 4, \"banana\", \"cherry\"} (order may vary)\n",
    "\n",
    "fruits_in_set = \"apple\" in my_set\n",
    "print(fruits_in_set)  # Output: True\n"
   ]
  },
  {
   "cell_type": "code",
   "execution_count": 43,
   "metadata": {},
   "outputs": [
    {
     "name": "stdout",
     "output_type": "stream",
     "text": [
      "set()\n"
     ]
    }
   ],
   "source": [
    "set1 = {1, 2, 3, 4, \"apple\"}\n",
    "set2 = {\"apple\", \"banana\", 5, 6}\n",
    "\n",
    "intersection_set = set1.intersection(set2)\n",
    "print(intersection_set)  # Output: {\"apple\"} (common element)\n"
   ]
  },
  {
   "cell_type": "code",
   "execution_count": 26,
   "metadata": {},
   "outputs": [
    {
     "name": "stdout",
     "output_type": "stream",
     "text": [
      "{1, 2, 3, 4}\n"
     ]
    }
   ],
   "source": [
    "set1 = {1, 2, 3, 4, \"apple\"}\n",
    "set2 = {\"apple\", \"banana\", 5, 6}\n",
    "\n",
    "difference_set = set1.difference(set2)\n",
    "print(difference_set)  # Output: {1, 2, 3, 4} (elements in set1 but not set2)\n"
   ]
  },
  {
   "cell_type": "markdown",
   "metadata": {},
   "source": [
    "Dictionaries: Key-Value Pairs for Flexible Data\n",
    "-------------------------------------------------\n",
    "\n",
    "Think of dictionaries as phonebooks – you look up information using unique keys\n",
    "Defined using curly braces {} with keys and values separated by colons :\n",
    "Keys must be unique and immutable (like strings or numbers), while values can be of any data type\n",
    "\n",
    "\n",
    "Key Points:\n",
    "--------------\n",
    "Dictionaries are unordered (insertion order is not preserved).\n",
    "\n",
    "Keys must be unique and immutable.\n",
    "\n",
    "Values can be any data type.\n",
    "\n",
    "Various methods provide efficient ways to manipulate and access data within dictionaries."
   ]
  },
  {
   "cell_type": "code",
   "execution_count": 28,
   "metadata": {},
   "outputs": [
    {
     "name": "stdout",
     "output_type": "stream",
     "text": [
      "123-456-7890\n",
      "555-1212\n"
     ]
    }
   ],
   "source": [
    "phonebook = {\n",
    "    \"Alice\": \"123-456-7890\",\n",
    "    \"Bob\": \"987-654-3210\",\n",
    "}\n",
    "\n",
    "alice_number = phonebook[\"Alice\"]  # Access value using key\n",
    "print(alice_number)  # Output: 123-456-7890\n",
    "\n",
    "phonebook[\"Charlie\"] = \"555-1212\"  # Add a new key-value pair\n",
    "print(phonebook[\"Charlie\"])"
   ]
  },
  {
   "cell_type": "markdown",
   "metadata": {},
   "source": []
  },
  {
   "cell_type": "markdown",
   "metadata": {},
   "source": [
    "Common Dictionary Methods:\n",
    "-------------------------\n",
    "\n",
    "get(key, default): Retrieves the value for a key. If the key doesn't exist, it returns the specified default value (or None if no default is provided).\n",
    "\n",
    "keys(): Returns a view of all the keys in the dictionary as a dictionary view object.\n",
    "\n",
    "values(): Returns a view of all the values in the dictionary as a dictionary view object.\n",
    "\n",
    "items(): Returns a view of all key-value pairs in the dictionary as tuples in a dictionary view object.\n",
    "\n",
    "pop(key, default): Removes the key-value pair with the specified key and returns its value. If the key doesn't exist, it returns the specified default value (or raises a KeyError if no default is provided).\n",
    "\n",
    "update(other_dict): Updates the dictionary by adding key-value pairs from the other_dict. Existing keys are overwritten with values from the other_dict.\n",
    "\n",
    "in operator: Checks if a specific key exists in the dictionary."
   ]
  },
  {
   "cell_type": "code",
   "execution_count": 49,
   "metadata": {},
   "outputs": [
    {
     "name": "stdout",
     "output_type": "stream",
     "text": [
      "Charlie's number is: 555-1212\n",
      "\n",
      "David1\n",
      "None\n",
      "\n",
      "{'Alice': '123-456-7890', 'Bob': '987-654-3210', 'Charlie': '555-1212', 'David': '000-000-0000', 'Anna': '111-111-1111'}\n"
     ]
    }
   ],
   "source": [
    "# Check if a key exists\n",
    "if \"Charlie\" in phonebook:\n",
    "  print(\"Charlie's number is:\", phonebook[\"Charlie\"])\n",
    "\n",
    "print()\n",
    "print(\"David1\")\n",
    "# Get a value with a default\n",
    "number = phonebook.get(\"David1\")\n",
    "print(number)  # Output: Number not found (key \"David\" doesn't exist)\n",
    "\n",
    "print()\n",
    "# Update the dictionary\n",
    "phonebook.update({\"David\": \"000-000-0000\",\"Anna\" : \"111-111-1111\"})\n",
    "print(phonebook)  # Output: {'Alice': ..., 'Bob': ..., 'Charlie': ..., 'David': '000-000-0000'}\n",
    "\n"
   ]
  },
  {
   "cell_type": "markdown",
   "metadata": {},
   "source": [
    "Examples:\n",
    "-----------\n",
    "\n",
    "Let us say your expense for every month are listed below,\n",
    "\n",
    "\tJanuary -  2200\n",
    "\n",
    " \tFebruary - 2350\n",
    "\n",
    "  March -    2600\n",
    "\n",
    "  April -    2130\n",
    "\n",
    "  May -      2190\n",
    "\n",
    "Create a list to store these monthly expenses and using that find out,\n",
    "\n",
    "- In Feb, how many dollars you spent extra compare to January?\n",
    "\n",
    "- Find out your total expense in first quarter (first three months) of the year.\n",
    "\n",
    "- Find out if you spent exactly 2000 dollars in any month\n",
    "\n",
    "- June month just finished and your expense is 1980 dollar. Add this item to our monthly expense list\n",
    "\n",
    "- You returned an item that you bought in a month of April and got a refund of 200$. Make a correction to your monthly expense list based on this.\n",
    "\n",
    "\n",
    "Fix below programs in each cell:\n",
    "\n",
    "\n"
   ]
  },
  {
   "cell_type": "code",
   "execution_count": null,
   "metadata": {},
   "outputs": [],
   "source": [
    "print(\"Hello!\")\n",
    "name = input(\"Enter your name: \"),\n",
    "print(\"Your name is \" + name + \".\")"
   ]
  },
  {
   "cell_type": "code",
   "execution_count": null,
   "metadata": {},
   "outputs": [],
   "source": [
    "namelist = ('wub_wub', 'RubyPinch', 'go|dfish', 'Nitori')\n",
    "namelist.append('pb122')\n",
    "if 'pb122' in namelist:\n",
    "    print(\"Now I know pb122!\")"
   ]
  },
  {
   "cell_type": "code",
   "execution_count": null,
   "metadata": {},
   "outputs": [],
   "source": [
    "namelist = ['wub_wub', 'RubyPinch', 'go|dfish', 'Nitori']\n",
    "namelist = namelist.extend('theelous3')\n",
    "if input(\"Enter your name: \") in namelist:\n",
    "    print(\"I know you!\")\n",
    "else:\n",
    "    print(\"I don't know you.\")"
   ]
  },
  {
   "cell_type": "markdown",
   "metadata": {},
   "source": [
    "More examples :\n",
    "----------------\n",
    "\n",
    "1. **Two Sum:** Given an array of numbers and a target sum, find two numbers that add up to the target sum.\n",
    "   - Solution: Use a dictionary to store seen numbers and their indices. For each new element, check if the complement (target - element) exists in the dictionary.\n",
    "2. **Remove Duplicates from Sorted Array:** Given a sorted array, remove duplicates in-place and return the new length of the array without duplicates.\n",
    "   - Solution: Use two pointers, one slow and one fast. The slow pointer keeps track of the unique elements, and the fast pointer iterates through the array. If the current element is not the same as the element pointed to by the slow pointer, it means a duplicate wasn't encountered yet. Update the slow pointer to point to the current element, effectively keeping only unique elements.\n",
    "\n",
    "\n",
    "3. **Pascals Triangle:** Given an integer numRows, return a list of n pascals triangle rows (where `n` is the number of rows).\n",
    "   - Solution: You can use a nested loop to iterate through rows and elements. However, since tuples are immutable, consider creating a new tuple for each row with the calculated values.\n",
    "4. **Product of Array Except Self:** Given an integer array nums, return an array where the ith element is the product of all the elements in nums except the ith element.\n",
    "   - Solution: Use two passes with a list (mutable). In the first pass, calculate the product of all elements to the left of each index. In the second pass, calculate the product of all elements to the right of each index and multiply it with the previously calculated left product for each index. Finally, convert the list to a tuple (immutable) for the final result.\n",
    "\n",
    "\n",
    "5. **Contains Duplicate:** Given an integer array nums, return `True` if any element appears in the array more than once and `False` otherwise.\n",
    "   - Solution: Use a set to store seen numbers. If adding a new element to the set fails (meaning a duplicate exists), return `True`. Otherwise, the loop continues, and `False` is returned at the end.\n",
    "6. **Intersection of Two Arrays:** Given two integer arrays nums1 and nums2, return the intersection of the two arrays.\n",
    "   - Solution: Convert one of the arrays to a set and iterate through the other array. If an element exists in the set, it's part of the intersection, so add it to the result list. Finally, convert the list to a set to remove duplicates if necessary.\n",
    "\n",
    "\n",
    "7. **Two Sum (Dictionary Approach):** Given an array of numbers and a target sum, find two numbers that add up to the target sum.\n",
    "   - Solution: Use a dictionary to store seen numbers and their indices. Iterate through the array and for each element, check if the complement (target - element) exists in the dictionary. If it does, you've found the two numbers.\n",
    "8. **Longest Substring Without Repeating Characters:** Given a string s, find the length of the longest substring without repeating characters.\n",
    "   - Solution: Use a dictionary to store the last seen index of each character. As you iterate through the string, keep track of the start index of the current substring. If you encounter a duplicate character, update the start index to be the max of the current start index and the last seen index of the duplicate character + 1 (to skip the duplicate). Keep track of the maximum length of the substring seen so far.\n",
    "\n"
   ]
  },
  {
   "cell_type": "code",
   "execution_count": 53,
   "metadata": {},
   "outputs": [
    {
     "name": "stdout",
     "output_type": "stream",
     "text": [
      "In given list of values we have 6 even and 5 odd\n"
     ]
    }
   ],
   "source": [
    "# Assigning list to a funtion\n",
    "def count (lst):\n",
    "    even = 0\n",
    "    odd = 0\n",
    "    for i in lst:\n",
    "        if i%2 == 0:\n",
    "            even +=1\n",
    "        else:\n",
    "            odd +=1\n",
    "    return even, odd\n",
    "\n",
    "\n",
    "lst = [20,21,22,23,24,25,26,27,28,29,30]\n",
    "\n",
    "even_count, odd_count = count(lst)\n",
    "\n",
    "print (\"In given list of values we have {} even and {} odd\" .format(even_count,odd_count))"
   ]
  },
  {
   "cell_type": "code",
   "execution_count": 52,
   "metadata": {},
   "outputs": [
    {
     "name": "stdout",
     "output_type": "stream",
     "text": [
      "[2, 4]\n"
     ]
    }
   ],
   "source": [
    "# List comprehensions are a concise and powerful way to create lists in Python. They offer a shorter and more readable syntax compared to traditional for loops with list creation.\n",
    "# new_list = [expression for item in iterable if condition]\n",
    "# condition is optional. Only items that evaluate to True will be included in the new list.\n",
    "\"\"\"\n",
    "expression: This can be any valid Python expression that will be evaluated for each item in the iterable. It determines what values will be included in the new list.\n",
    "item: This represents a variable that takes on the value of each item in the iterable during the loop.\n",
    "iterable: This can be a list, tuple, string, or any other object that can be iterated over. It provides the source elements for the new list.\n",
    "\n",
    "Benefits:\n",
    "\n",
    "Conciseness: They often reduce lines of code compared to traditional for loops.\n",
    "Readability: They can express complex list creation logic in a clear and compact way.\n",
    "Flexibility: They support various expressions, conditions, and nested comprehensions for advanced scenarios.\n",
    "\"\"\"\n",
    "\n",
    "# Creating a new list based on a condition:\n",
    "\n",
    "numbers = [1, 2, 3, 4, 5]\n",
    "# Syntax : \n",
    "even_numbers = [number for number in numbers if number % 2 == 0]\n",
    "print(even_numbers)  # Output: [2, 4]\n",
    "\n",
    "#Transforming elements during list creation\n",
    "strings = [\"apple\", \"banana\", \"cherry\"]\n",
    "uppercase_strings = [string.upper() for string in strings]\n",
    "print(uppercase_strings)  # Output: [\"APPLE\", \"BANANA\", \"CHERRY\"]\n",
    "\n",
    "# Creating a list with a specific range of elements\n",
    "\n",
    "squares = [number**2 for number in range(1, 6)]  # Creates squares from 1 to 5 (not including 6)\n",
    "print(squares)  # Output: [1, 4, 9, 16, 25]\n",
    "\n"
   ]
  },
  {
   "cell_type": "code",
   "execution_count": null,
   "metadata": {},
   "outputs": [],
   "source": [
    "# Nested comprehensions for complex filtering and transformations\n",
    "matrix = [[1, 2, 3], [4, 5, 6], [7, 8, 9]]\n",
    "diagonals = [row[i] for i, row in enumerate(matrix) for row in matrix if i == row.index(row[i])]\n",
    "print(diagonals)  # Output: [1, 5, 9] (extracts elements on the diagonal)\n",
    "\n",
    "\"\"\"\n",
    "List comprehensions are most readable for simple to moderately complex scenarios. For very intricate logic, traditional for loops might be clearer.\n",
    "Use parentheses around complex expressions or conditions to ensure proper evaluation order.\n",
    "While list comprehensions can be nested, overuse can make code harder to understand. Break down complex logic into smaller, more manageable comprehensions if necessary\n",
    "\"\"\""
   ]
  }
 ],
 "metadata": {
  "kernelspec": {
   "display_name": "Python 3",
   "language": "python",
   "name": "python3"
  },
  "language_info": {
   "codemirror_mode": {
    "name": "ipython",
    "version": 3
   },
   "file_extension": ".py",
   "mimetype": "text/x-python",
   "name": "python",
   "nbconvert_exporter": "python",
   "pygments_lexer": "ipython3",
   "version": "3.9.13"
  }
 },
 "nbformat": 4,
 "nbformat_minor": 2
}
