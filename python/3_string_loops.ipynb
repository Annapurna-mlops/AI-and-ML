{
 "cells": [
  {
   "cell_type": "markdown",
   "metadata": {},
   "source": [
    "Strings:\n",
    "--------------\n",
    "\n",
    "Strings represent sequences of characters enclosed in single (') or double (\") quotes.  They offer a variety of methods for working with text data:\n",
    "\n",
    "Commonly used Methods:\n",
    "--------------------------\n",
    "\n",
    "len(string): Returns the length of the string (number of characters).\n",
    "\n",
    "string.upper(): Returns a new string with all characters converted to uppercase.\n",
    "\n",
    "string.lower(): Returns a new string with all characters converted to lowercase.\n",
    "\n",
    "string.strip(): Removes leading and trailing whitespaces.\n",
    "\n",
    "string.find(substring): Returns the index of the first occurrence of a substring within the string, or -1 if not found.\n",
    "\n",
    "string.replace(old, new): Returns a new string where all occurrences of a specific substring (old) are replaced with another substring (new).\n",
    "\n",
    "string.split(separator): Splits a string into a list based on a separator (e.g., ,).\n",
    "\n",
    "string.join(iterable): Joins elements from an iterable (like a list) into a string with a specified separator.\n",
    "\n",
    "Formatting and Slicing:\n",
    "----------------------------\n",
    "\n",
    "f-strings: Allow for embedding expressions within strings using f-prefixes (e.g., f\"Hello, {name}!\").\n",
    "\n",
    "string[start:end:step]: Slicing extracts a portion of the string based on start (inclusive), end (exclusive), and step (optional jump size) indices."
   ]
  },
  {
   "cell_type": "code",
   "execution_count": 4,
   "metadata": {},
   "outputs": [
    {
     "name": "stdout",
     "output_type": "stream",
     "text": [
      "Hello, ALICE! How are you today?\n",
      "Welcome to the program!\n"
     ]
    }
   ],
   "source": [
    "name = \"Alice\"\n",
    "greeting = f\"Hello, {name.upper()}! How are you today?\"\n",
    "print(greeting)  # Output: HELLO, ALICE! How are you today?\n",
    "\n",
    "message = \"   Welcome to the program!  \"\n",
    "trimmed_message = message.strip()\n",
    "print(trimmed_message)  # Output: Welcome to the program!\n"
   ]
  },
  {
   "cell_type": "markdown",
   "metadata": {},
   "source": [
    "Conditional Statements (if, else, elif):\n",
    "-------------------------------------------\n",
    "\n",
    "These statements control the execution path of your program based on certain conditions.\n",
    "\n",
    "if: Executes a block of code if a specified condition is True.\n",
    "else: Executes an alternative block of code if the condition in the if statement is False (optional).\n",
    "elif: Stands for \"else if\" and allows you to check multiple conditions sequentially."
   ]
  },
  {
   "cell_type": "code",
   "execution_count": 1,
   "metadata": {},
   "outputs": [
    {
     "name": "stdout",
     "output_type": "stream",
     "text": [
      "Great job!\n"
     ]
    }
   ],
   "source": [
    "grade = 85\n",
    "if grade >= 90:\n",
    "  print(\"Excellent!\")\n",
    "elif grade >= 80:\n",
    "  print(\"Great job!\")\n",
    "else:\n",
    "  print(\"Keep studying!\")\n"
   ]
  },
  {
   "cell_type": "markdown",
   "metadata": {},
   "source": [
    "Loops (for, while):\n",
    "----------------------\n",
    "\n",
    "Loops allow you to execute a block of code repeatedly until a certain condition is met.\n",
    "\n",
    "for: Iterates over a sequence of items (like a list or string) and executes the code block for each item.\n",
    "while: Executes the code block as long as a specified condition is True.\n"
   ]
  },
  {
   "cell_type": "code",
   "execution_count": null,
   "metadata": {},
   "outputs": [
    {
     "name": "stdout",
     "output_type": "stream",
     "text": [
      "I like to eat apple.\n",
      "I like to eat banana.\n",
      "I like to eat cherry.\n",
      "Counting: 0\n",
      "Counting: 1\n",
      "Counting: 2\n",
      "Counting: 3\n",
      "Counting: 4\n"
     ]
    }
   ],
   "source": [
    "fruits = [\"apple\", \"banana\", \"cherry\"]\n",
    "for fruit in fruits:\n",
    "  print(f\"I like to eat {fruit}.\")\n",
    "\n",
    "count = 0\n",
    "while count < 5:\n",
    "  print(f\"Counting: {count}\")\n",
    "  count += 1\n"
   ]
  },
  {
   "cell_type": "markdown",
   "metadata": {},
   "source": [
    "Arrays (Lists):\n",
    "-------------------\n",
    "\n",
    "Arrays, represented as lists in Python, store ordered collections of elements. These elements can be of various data types (numbers, strings, even other lists!). Here are key methods for list manipulation:\n",
    "\n",
    "Creating and Accessing Elements:\n",
    "----------------------------------\n",
    "my_list = [1, \"apple\", 3.14] : Creates a list with various data types.\n",
    "\n",
    "my_list[index]: Accesses an element by its index (starting from 0).\n",
    "\n",
    "Modifying Lists:\n",
    "-----------------\n",
    "my_list.append(element): Adds an element to the end of the list.\n",
    "\n",
    "my_list.insert(index, element): Inserts an element at a specific index.\n",
    "\n",
    "my_list.remove(element): Removes the first occurrence of an element (by value).\n",
    "\n",
    "my_list.pop(): Removes and returns the last element of the list.\n",
    "\n",
    "my_list.sort(): Sorts elements in a list in ascending order (in-place modification).\n",
    "\n",
    "sorted(my_list): Returns a new sorted list without modifying the original.\n",
    "\n",
    "my_list.reverse(): Reverses the order of elements in-place.\n",
    "\n",
    "Iterating and Searching:\n",
    "--------------------------\n",
    "for element in my_list: Iterates over each element in the list.\n",
    "\n",
    "element in my_list: Checks if an element exists in the list (returns True or False).\n",
    "\n",
    "my_list.index(element): Returns the index of the first occurrence of an element (raises an error if not found).\n",
    "\n"
   ]
  },
  {
   "cell_type": "markdown",
   "metadata": {},
   "source": [
    "numbers = [1, 5, 9, 2]\n",
    "print(numbers[1])  # Access element at index 1 (output: 5)\n",
    "numbers.append(10)  # Add element to the end\n",
    "for number in numbers:\n",
    "  print(number * 2)  # Loop and manipulate elements\n"
   ]
  },
  {
   "cell_type": "code",
   "execution_count": 5,
   "metadata": {},
   "outputs": [
    {
     "name": "stdout",
     "output_type": "stream",
     "text": [
      "length :  5\n",
      "1\n",
      "5\n",
      "9\n",
      "10\n",
      "2\n"
     ]
    }
   ],
   "source": [
    "numbers = [1, 5, 9, 2] # Access element at index 1 (output: 5)\n",
    "numbers.insert(3,10)  # Add element to the end\n",
    "print (\"length : \", len(numbers))\n",
    "for number in numbers:\n",
    "  print(number)  # Loop and manipulate elements\n"
   ]
  },
  {
   "cell_type": "markdown",
   "metadata": {},
   "source": [
    "Example:\n",
    "\n",
    "1. Write a program that uses if statements to determine if a number is even or odd.\n",
    "\n",
    "2. Use a for loop to iterate over a list of names and print greetings for each person.\n",
    "\n",
    "3. Challenge yourself: Create a program that uses a while loop to guess a random number within a specific range\n",
    "\n",
    "4. You're managing a list of products with names, prices, and stock quantities:\n",
    "\n",
    "\n",
    "            products = [\n",
    "                        {\"name\": \"T-Shirt\", \"price\": 15.99, \"quantity\": 100},\n",
    "                        {\"name\": \"Coffee Mug\", \"price\": 7.50, \"quantity\": 50},\n",
    "                        {\"name\": \"Notebook\", \"price\": 8.99, \"quantity\": 75},\n",
    "                    ]\n",
    "\n",
    "    Find Low Stock Products:  Write a code block that iterates through the products list and identifies products with a stock quantity less than 20. Print the names of those products.\n",
    "\n",
    "    Array Slicing and Price Formatting:  Create a new list containing only the product names from the products list. Use array slicing to extract the desired elements.  Then, format the prices in the products list to display them with two decimal places (e.g., $15.99).\n",
    "\n",
    "5. Create 3 variables to store street, city and country, now create address variable to store entire address. Use two ways of creating this variable, one using + operator and the other using f-string. Now Print the address in such a way that the street, city and country prints in a separate line\n",
    "\n",
    "6. Create a variable to store the string \"Earth revolves around the sun\"\n",
    "        Print \"revolves\" using slice operator\n",
    "        Print \"sun\" using negative index\n",
    "\n",
    "7. Create two variables to store how many fruits and vegetables you eat in a day. Now Print \"I eat x veggies and y fruits daily\" where x and y presents vegetables and fruits that you eat everyday. Use python f string for this.\n",
    "\n",
    "8. I have a string variable called s='maine 200 banana khaye'. This of course is a wrong statement, the correct statement is 'maine 10 samosa khaye'. Replace incorrect words in original strong with new ones and print the new string. Also try to do this in one line.\n",
    "\n",
    "9. Using following list of cities per country,\n",
    "            \n",
    "            india = [\"mumbai\", \"banglore\", \"chennai\", \"delhi\"]\n",
    "            pakistan = [\"lahore\",\"karachi\",\"islamabad\"]\n",
    "            bangladesh = [\"dhaka\", \"khulna\", \"rangpur\"]\n",
    "    a. Write a program that asks user to enter a city name and it should tell which country the city belongs to\n",
    "\n",
    "    b. Write a program that asks user to enter two cities and it tells you if they both are in same country or not. For example if I enter mumbai and chennai, it will print \"Both cities are in India\" but if I enter mumbai and dhaka it should print \"They don't belong to same country\"\n",
    "\n",
    "10. Write a python program that can tell you if your sugar is normal or not. Normal fasting level sugar range is 80 to 100.\n",
    "    a. Ask user to enter his fasting sugar level\n",
    "    b. If it is below 80 to 100 range then print that sugar is low\n",
    "    c. If it is above 100 then print that it is high otherwise print that it is normal\n",
    "\n",
    "11. After flipping a coin 10 times you got this result,\n",
    "\n",
    "    result = [\"heads\",\"tails\",\"tails\",\"heads\",\"tails\",\"heads\",\"heads\",\"tails\",\"tails\",\"tails\"]\n",
    "    Using for loop figure out how many times you got heads\n",
    "\n",
    "12. Print square of all numbers between 1 to 10 except even numbers\n",
    "\n",
    "13. Your monthly expense list (from Jan to May) looks like this,\n",
    "        expense_list = [2340, 2500, 2100, 3100, 2980]\n",
    "    Write a program that asks you to enter an expense amount and program should tell you in which month that expense occurred. If expense is not found then it should print that as well.\n",
    "\n",
    "14. Lets say you are running a 5 km race. Write a program that,\n",
    "\n",
    "        a. Upon completing each 1 km asks you \"are you tired?\"\n",
    "        b. If you reply \"yes\" then it should break and print \"you didn't finish the race\"\n",
    "        c. If you reply \"no\" then it should continue and ask \"are you tired\" on every km\n",
    "        d. If you finish all 5 km then it should print congratulations message\n",
    "\n",
    "15. Let us say your expense for every month are listed below,\n",
    "            January - 2200\n",
    "            February - 2350\n",
    "            March - 2600\n",
    "            April - 2130\n",
    "            May - 2190\n",
    "    Create a list to store these monthly expenses and using that find out,\n",
    "\n",
    "    1. In Feb, how many dollars you spent extra compare to January?\n",
    "    2. Find out your total expense in first quarter (first three months) of the year.\n",
    "    3. Find out if you spent exactly 2000 dollars in any month\n",
    "    4. June month just finished and your expense is 1980 dollar. Add this item to our monthly expense list\n",
    "    5. You returned an item that you bought in a month of April and got a refund of 200$. Make a correction to your monthly expense list based on this\n",
    "\n",
    "16. You have a list of your favourite marvel super heros.\n",
    "            heros=['spider man','thor','hulk','iron man','captain america']\n",
    "\n",
    "            Using this find out,\n",
    "\n",
    "            1. Length of the list\n",
    "            2. Add 'black panther' at the end of this list\n",
    "            3. You realize that you need to add 'black panther' after 'hulk',\n",
    "                so remove it from the list first and then add it after 'hulk'\n",
    "            4. Now you don't like thor and hulk because they get angry easily :)\n",
    "                So you want to remove thor and hulk from list and replace them with doctor strange (because he is cool).\n",
    "                Do that with one line of code.\n",
    "            5. Sort the heros list in alphabetical order (Hint. Use dir() functions to list down all functions available in list)"
   ]
  },
  {
   "cell_type": "code",
   "execution_count": null,
   "metadata": {},
   "outputs": [],
   "source": [
    "numbers = [1, 2, 3, 4, 5, 6]\n",
    "for number in numbers:\n",
    "    if number == 4:\n",
    "        print(number)  # Output: 4\n",
    "        break  # Exit the loop after finding 4\n",
    "    print(\"Current number:\", number)\n"
   ]
  },
  {
   "cell_type": "code",
   "execution_count": null,
   "metadata": {},
   "outputs": [],
   "source": [
    "numbers = [1, 2, 3, 4, 5, 6]\n",
    "for number in numbers:\n",
    "    if number % 2 == 0:  # Skip even numbers\n",
    "        continue\n",
    "    print(\"Current odd number:\", number)  # Output: Current odd number: 1, Current odd number: 3, Current odd number: 5\n"
   ]
  },
  {
   "cell_type": "code",
   "execution_count": null,
   "metadata": {},
   "outputs": [],
   "source": [
    "for i in range(5):\n",
    "    pass  # Placeholder for future code within the loop\n",
    "x=1\n",
    "if x > 0:\n",
    "    pass  # Empty block for potential future logic\n"
   ]
  },
  {
   "cell_type": "code",
   "execution_count": null,
   "metadata": {},
   "outputs": [],
   "source": [
    "def my_function(arg):\n",
    "    if arg is None:\n",
    "        pass  # No action for None argument (prevents potential errors)\n",
    "    else:\n",
    "        # Process the argument here\n",
    "        print(\"else block\")\n",
    "   "
   ]
  },
  {
   "cell_type": "code",
   "execution_count": 1,
   "metadata": {},
   "outputs": [],
   "source": [
    "# Finding and printing the first prime number\n",
    "\n",
    "numbers = [1,2, 3, 4, 5, 6, 7, 8, 9, 10]\n",
    "for number in numbers:\n",
    "    if number <= 1:  # Not prime\n",
    "        continue\n",
    "    else:\n",
    "        pass\n",
    "    is_prime = True\n",
    "    for i in range(2, int(number**0.5) + 1):  # Efficient prime check\n",
    "        if number % i == 0:\n",
    "            is_prime = False\n",
    "            break  # Exit inner loop if not prime\n",
    "    if is_prime:\n",
    "        print(\"First prime number:\", number)\n",
    "        break  # Exit outer loop after finding the first prime\n"
   ]
  },
  {
   "cell_type": "code",
   "execution_count": 3,
   "metadata": {},
   "outputs": [
    {
     "name": "stdout",
     "output_type": "stream",
     "text": [
      "{-3}\n",
      "{-2}\n",
      "out of for loop\n"
     ]
    }
   ],
   "source": [
    "# Skipping negative numbers and printing squares of positive numbers:\n",
    "numbers = [-3, -2, 1, 2, 3, 4, -5]\n",
    "for number in numbers:\n",
    "    if number > 0:  # 1 < 0\n",
    "        break  # Skip negative numbers\n",
    "    #square = number * number\n",
    "    print({number})\n",
    "\n",
    "print(\"out of for loop\")"
   ]
  },
  {
   "cell_type": "code",
   "execution_count": null,
   "metadata": {},
   "outputs": [],
   "source": [
    "x = 10\n",
    "if x < 0:\n",
    "    print(\"x is negative\")\n",
    "else:\n",
    "    pass  # Empty block for potential future logic based on positive x\n"
   ]
  },
  {
   "cell_type": "markdown",
   "metadata": {},
   "source": []
  }
 ],
 "metadata": {
  "kernelspec": {
   "display_name": "Python 3",
   "language": "python",
   "name": "python3"
  },
  "language_info": {
   "codemirror_mode": {
    "name": "ipython",
    "version": 3
   },
   "file_extension": ".py",
   "mimetype": "text/x-python",
   "name": "python",
   "nbconvert_exporter": "python",
   "pygments_lexer": "ipython3",
   "version": "3.9.13"
  }
 },
 "nbformat": 4,
 "nbformat_minor": 2
}
