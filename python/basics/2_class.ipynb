{
 "cells": [
  {
   "cell_type": "markdown",
   "metadata": {},
   "source": [
    "Function, Method, Class, Object\n",
    "--------------------------------------------------------------\n",
    "\n",
    "Both functions and methods are used to define reusable blocks of code that perform specific tasks.\n",
    "\n",
    "\n",
    "Feature\t                    Function\t                                Method\n",
    "----------------            ----------------------------------          -----------------------------\n",
    "Definition\t                Outside a class\t                            Inside a class\n",
    "Called by\t                Function_name(arguments)\t                object.method_name(arguments)\n",
    "Object association\t        No direct association\t                    Associated with the object it's called on\n",
    "Data access\t                Operates on data passed as arguments\t    Can access and modify object's attributes\n",
    "\n"
   ]
  },
  {
   "cell_type": "code",
   "execution_count": 1,
   "metadata": {},
   "outputs": [
    {
     "name": "stdout",
     "output_type": "stream",
     "text": [
      "Hello, Alice!\n"
     ]
    }
   ],
   "source": [
    "#Functions\n",
    "#Functions operate on data you provide as arguments and \n",
    "# don't have inherent access to an object's attributes or methods.\n",
    "def greet(name):    # name is the argument.\n",
    "  \"\"\"Prints a greeting message.\"\"\"\n",
    "  print(f\"Hello, {name}!\")\n",
    "\n",
    "greet(\"Alice\")  # Output: Hello, Alice!"
   ]
  },
  {
   "cell_type": "code",
   "execution_count": null,
   "metadata": {},
   "outputs": [],
   "source": [
    "# Class and Method\n",
    "class Person:\n",
    "  def __init__(self, name, age):\n",
    "    self.name = name\n",
    "    self.age = age\n",
    "\n",
    "  def introduce(self):\n",
    "    \"\"\"Introduces the person.\"\"\"\n",
    "    print(f\"Hi, I'm {self.name} and I am {self.age} years old.\")\n",
    "    #Methods can access and manipulate the data (attributes) of the object they are called on.\n",
    "\n",
    "person1 = Person(\"Bob\", 30)\n",
    "person1.introduce()  # Output: Hi, I'm Bob and I am 30 years old.\n"
   ]
  },
  {
   "cell_type": "markdown",
   "metadata": {},
   "source": [
    "Class:\n",
    "\n",
    "A blueprint or template that defines the properties (attributes) and functionalities (methods) of objects.\n",
    "Think of it as a recipe for creating objects of a particular kind.\n",
    "You define a class using the class keyword followed by the class name and a colon (:).\n",
    "\n",
    "Attributes:\n",
    "\n",
    "Attributes are variables that hold the data or characteristics of an object.\n",
    "These are defined within the class to represent the properties of objects created from that class.\n",
    "You can access and modify attributes using dot notation (.) on an object instance.\n",
    "\n",
    "Methods:\n",
    "\n",
    "Functions defined within a class that describe the behaviors of objects.\n",
    "Methods operate on the data (attributes) of the object they are called on.\n",
    "Methods are defined using the def keyword within the class definition.\n",
    "\n",
    "Objects:\n",
    "\n",
    "Instances of a class that represent real-world entities with specific attributes and behaviors.\n",
    "They are created using the class name followed by parentheses ().\n",
    "Each object has its own copy of the attributes defined in the class.\n",
    "\n",
    "Default Methods:\n",
    "\n",
    "Python doesn't have built-in default methods like some other languages (e.g., Java constructors).\n",
    "However, a special method named __init__(self) is typically used to initialize an object's attributes when it's created. This is often referred to as the constructor.\n",
    "\n",
    "Static Variables: Shared Memories within a Class\n",
    "\n",
    "In Python, static variables, declared using the @staticmethod decorator, offer a way to store data associated with a class itself, rather than individual objects. Here's a breakdown of their key characteristics:\n",
    "\n",
    "    Shared Across Objects: Unlike regular attributes (instance variables) that have a separate copy for each object, a static variable maintains a single value shared by all instances of the class.\n",
    "\n",
    "    Class-Level Access: You access a static variable using the class name followed by the variable name, similar to accessing class attributes.\n",
    "\n",
    "    Not Tied to Objects: Static variables don't require an object instance to be accessed. They are independent of object creation.\n",
    "\n",
    "Use Cases for Static Variables:\n",
    "\n",
    "Here are some scenarios where static variables can be useful:\n",
    "\n",
    "    Counters: Maintaining a counter that increments for each object created from the class.\n",
    "\n",
    "    Class Constants: Storing values that remain constant throughout the program and are relevant to the class as a whole (e.g., mathematical constants like pi).\n",
    "\n",
    "    Configuration Variables: Holding configuration settings that apply to all objects of the class (although using external configuration files might be a better approach for complex configurations)."
   ]
  },
  {
   "cell_type": "code",
   "execution_count": 2,
   "metadata": {},
   "outputs": [
    {
     "name": "stdout",
     "output_type": "stream",
     "text": [
      "Total number of cars created: 2\n"
     ]
    }
   ],
   "source": [
    "class Car:\n",
    "  # Static variable to keep track of the number of Car objects created\n",
    "  num_cars = 0\n",
    "\n",
    "  def __init__(self, color, model):\n",
    "    self.color = color\n",
    "    self.model = model\n",
    "    # Increment counter each time a Car object is created\n",
    "    Car.num_cars += 1\n",
    "\n",
    "  @staticmethod\n",
    "  def get_total_cars():\n",
    "    # Access static variable using class name\n",
    "    return Car.num_cars\n",
    "\n",
    "# Create Car objects\n",
    "car1 = Car(\"red\", \"Tesla\")\n",
    "car2 = Car(\"blue\", \"Honda\")\n",
    "\n",
    "# Accessing static variable using class name\n",
    "total_cars = Car.get_total_cars()\n",
    "print(f\"Total number of cars created: {total_cars}\")  # Output: Total number of cars created: 2\n"
   ]
  },
  {
   "cell_type": "markdown",
   "metadata": {},
   "source": [
    "Exercise:\n",
    "1. Create a sample class named Employee with two attributes id and name\n",
    "        employee :\n",
    "                id\n",
    "                 name\n",
    "        object initializes id and name dynamically for every Employee object created.\n",
    "\n",
    "        emp = Employee(1, \"coder\")\n",
    "2. Use del property to first delete id attribute and then the entire object\n",
    "3. When would you use a static method instead of a regular method?\n",
    "4. ou defined a class attribute (color) for the Car class. Why can't you directly change the color of a specific car object (e.g., car1.color = \"blue\")? How would you achieve this?\n",
    "5. Write a short Python program that defines a class Book with attributes like title, author, and price. Include a method get_book_info that returns a formatted string with this information. Create a Book object and call the method to display the book information.\n",
    "6. When would you choose to use a function instead of a method in your Python code? Provide an example to illustrate the difference.\n",
    "7. Can I use too many static variables in a class?\n"
   ]
  }
 ],
 "metadata": {
  "kernelspec": {
   "display_name": "Python 3",
   "language": "python",
   "name": "python3"
  },
  "language_info": {
   "codemirror_mode": {
    "name": "ipython",
    "version": 3
   },
   "file_extension": ".py",
   "mimetype": "text/x-python",
   "name": "python",
   "nbconvert_exporter": "python",
   "pygments_lexer": "ipython3",
   "version": "3.9.13"
  }
 },
 "nbformat": 4,
 "nbformat_minor": 2
}
