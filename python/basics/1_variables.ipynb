{
 "cells": [
  {
   "cell_type": "markdown",
   "metadata": {},
   "source": [
    "Variables, Booleans, None, If Else\n",
    "------------------------------------------------------------------------------\n",
    "\n",
    "Variables:Variables are easy to understand. They simply point to values."
   ]
  },
  {
   "cell_type": "code",
   "execution_count": 5,
   "metadata": {},
   "outputs": [
    {
     "name": "stdout",
     "output_type": "stream",
     "text": [
      "1\n"
     ]
    },
    {
     "data": {
      "text/plain": [
       "2"
      ]
     },
     "execution_count": 5,
     "metadata": {},
     "output_type": "execute_result"
    }
   ],
   "source": [
    "a = 1   # create a variable called a that points to 1\n",
    "b = 2   # create another variable\n",
    "a  # get the value that the variable points to"
   ]
  },
  {
   "cell_type": "code",
   "execution_count": null,
   "metadata": {},
   "outputs": [],
   "source": [
    "b"
   ]
  },
  {
   "cell_type": "markdown",
   "metadata": {},
   "source": [
    "Let's draw a diagram of these variables.\n",
    "\n",
    "a  ----> 1\n",
    "b  ----> 2\n",
    "\n",
    "We can also change the value of a variable after setting it."
   ]
  },
  {
   "cell_type": "code",
   "execution_count": null,
   "metadata": {},
   "outputs": [],
   "source": [
    "a = 2    # make a point to 2 instead of 1\n",
    "a"
   ]
  },
  {
   "cell_type": "markdown",
   "metadata": {},
   "source": [
    "In Python, the variables a and b will point to the same memory address if they are assigned the same immutable value, such as an integer. This is due to Python's internal optimization mechanism called interning, which reuses objects for small integers (typically from -5 to 256) and some strings to save memory.\n",
    "\n",
    "The is operator checks if two variables point to the same object (i.e., have the same memory address). "
   ]
  },
  {
   "cell_type": "code",
   "execution_count": 7,
   "metadata": {},
   "outputs": [
    {
     "name": "stdout",
     "output_type": "stream",
     "text": [
      "False\n"
     ]
    }
   ],
   "source": [
    "a = 2\n",
    "b = 3\n",
    "print(a is b)  # Output: True"
   ]
  },
  {
   "cell_type": "code",
   "execution_count": 8,
   "metadata": {},
   "outputs": [
    {
     "data": {
      "text/plain": [
       "1"
      ]
     },
     "execution_count": 8,
     "metadata": {},
     "output_type": "execute_result"
    }
   ],
   "source": [
    "a = 1\n",
    "b = a  # this makes b point to 1, not a\n",
    "a = 5\n",
    "b      # b didn't change when a changed"
   ]
  },
  {
   "cell_type": "code",
   "execution_count": 9,
   "metadata": {},
   "outputs": [
    {
     "ename": "NameError",
     "evalue": "name 'customVariable' is not defined",
     "output_type": "error",
     "traceback": [
      "\u001b[0;31m---------------------------------------------------------------------------\u001b[0m",
      "\u001b[0;31mNameError\u001b[0m                                 Traceback (most recent call last)",
      "Cell \u001b[0;32mIn[9], line 1\u001b[0m\n\u001b[0;32m----> 1\u001b[0m \u001b[43mcustomVariable\u001b[49m\n",
      "\u001b[0;31mNameError\u001b[0m: name 'customVariable' is not defined"
     ]
    }
   ],
   "source": [
    "customVariable"
   ]
  },
  {
   "cell_type": "code",
   "execution_count": 10,
   "metadata": {},
   "outputs": [
    {
     "name": "stdout",
     "output_type": "stream",
     "text": [
      "variable :  1\n",
      "VARIABLE :  2\n"
     ]
    }
   ],
   "source": [
    "variable = 1\n",
    "VARIABLE = 2\n",
    "print(\"variable : \", variable)\n",
    "print(\"VARIABLE : \", VARIABLE)"
   ]
  },
  {
   "cell_type": "code",
   "execution_count": null,
   "metadata": {},
   "outputs": [],
   "source": [
    "if = 3"
   ]
  },
  {
   "cell_type": "markdown",
   "metadata": {},
   "source": [
    "There are also words that cannot be used as variable names because they are reserved by Python itself and have a special meaning. They are called keywords, and we can run help('keywords') to see the full list if we want to.\n",
    "Trying to use a keyword as a variable name causes a syntax error."
   ]
  },
  {
   "cell_type": "code",
   "execution_count": 11,
   "metadata": {},
   "outputs": [
    {
     "name": "stdout",
     "output_type": "stream",
     "text": [
      "\n",
      "Here is a list of the Python keywords.  Enter any keyword to get more help.\n",
      "\n",
      "False               break               for                 not\n",
      "None                class               from                or\n",
      "True                continue            global              pass\n",
      "__peg_parser__      def                 if                  raise\n",
      "and                 del                 import              return\n",
      "as                  elif                in                  try\n",
      "assert              else                is                  while\n",
      "async               except              lambda              with\n",
      "await               finally             nonlocal            yield\n",
      "\n"
     ]
    }
   ],
   "source": [
    "help('keywords')"
   ]
  },
  {
   "cell_type": "code",
   "execution_count": 12,
   "metadata": {},
   "outputs": [
    {
     "data": {
      "text/plain": [
       "2"
      ]
     },
     "execution_count": 12,
     "metadata": {},
     "output_type": "execute_result"
    }
   ],
   "source": [
    "a = 1\n",
    "a = a+1  # 1+1 = 2 --> a\n",
    "a"
   ]
  },
  {
   "cell_type": "markdown",
   "metadata": {},
   "source": [
    "To do something to a variable (for example, to add something to it) we can also use +=, -=, *= and /= instead of +, -, * and /. The \"advanced\" %=, //= and **= also work."
   ]
  },
  {
   "cell_type": "code",
   "execution_count": 13,
   "metadata": {},
   "outputs": [
    {
     "name": "stdout",
     "output_type": "stream",
     "text": [
      "a is  2\n",
      "a += 2  :  4\n",
      "a -= 2  :  2\n",
      "a *= 2  :  4\n",
      "a /= 2  :  2.0\n"
     ]
    }
   ],
   "source": [
    "print(\"a is \", a)\n",
    "a += 2          # a = a + 2\n",
    "print (\"a += 2  : \", a)\n",
    "a -= 2          # a = a - 2\n",
    "print (\"a -= 2  : \", a)\n",
    "a *= 2          # a = a * 2\n",
    "print (\"a *= 2  : \", a)\n",
    "a /= 2          # a = a / 2\n",
    "print (\"a /= 2  : \", a)"
   ]
  },
  {
   "cell_type": "code",
   "execution_count": null,
   "metadata": {},
   "outputs": [],
   "source": [
    "# This is not limited to integers.\n",
    "\n",
    "a = 'hello'\n",
    "a *= 3\n",
    "a += 'world'\n",
    "a"
   ]
  },
  {
   "cell_type": "markdown",
   "metadata": {},
   "source": [
    "Data Types:\n",
    "\n",
    "Python is dynamically typed, meaning you don't need to explicitly declare the data type of a variable beforehand. The type is determined by the value assigned.\n",
    "Common data types:\n",
    "    1. int: Integers (whole numbers) - x = 10\n",
    "    2. float: Floating-point numbers (decimals) - y = 3.14\n",
    "    3. str: Strings (text) - name = \"Bob\"\n",
    "    4. bool: Boolean values (True or False) - is_valid = True"
   ]
  },
  {
   "cell_type": "code",
   "execution_count": null,
   "metadata": {},
   "outputs": [],
   "source": [
    "\"\"\"\n",
    "Good and bad variable names:\n",
    "Variable names can be multiple characters long.\n",
    "They can contain uppercase characters, numbers and some other characters,\n",
    " but most of the time we should use simple, lowercase variable names.\n",
    "We can also use underscores. \n",
    "\"\"\"\n",
    "magic_number = 123\n",
    "greeting = \"Hello World!\"\n",
    "\n",
    "#Don't use variable names like this, these variables are bad:\n",
    "magicNumber = 3.14          # looks weird\n",
    "Greeting = \"Hello there!\"   # also looks weird\n",
    "x = \"Hello again!\"          # what is x?"
   ]
  },
  {
   "cell_type": "markdown",
   "metadata": {},
   "source": [
    "Booleans\n",
    "There are two Boolean values, True and False. In Python, and in many other programming languages, = is assigning and == is comparing. a = 1 sets a to 1, and a == 1 checks if a equals 1.\n",
    "a == 1 is the same as (a == 1) == True, but a == 1 is more readable, so most of the time we shouldn't write == True anywhere."
   ]
  },
  {
   "cell_type": "code",
   "execution_count": 16,
   "metadata": {},
   "outputs": [
    {
     "data": {
      "text/plain": [
       "True"
      ]
     },
     "execution_count": 16,
     "metadata": {},
     "output_type": "execute_result"
    }
   ],
   "source": [
    "a = 1\n",
    "a == 1\n",
    "b= 1\n",
    "a == b\n",
    "a is b "
   ]
  },
  {
   "cell_type": "markdown",
   "metadata": {},
   "source": [
    "None\n",
    "None is Python's \"nothing\" value. It behaves just like any other value, and it's often used as a default value for different kinds of things.It's a special constant object that belongs to the NoneType data type. Right now it might seem useless but we'll find a bunch of ways to use None later.\n",
    "\n",
    "None: This keyword signifies the absence of a value and is an instance of the NoneType data type.\n",
    "NoneType: This built-in data type in Python specifically represents the concept of \"no value.\" There's only one object of this type, and it's always referred to by None."
   ]
  },
  {
   "cell_type": "code",
   "execution_count": 17,
   "metadata": {},
   "outputs": [],
   "source": [
    "variable = None\n",
    "variable"
   ]
  },
  {
   "cell_type": "code",
   "execution_count": 18,
   "metadata": {},
   "outputs": [
    {
     "name": "stdout",
     "output_type": "stream",
     "text": [
      "None\n"
     ]
    }
   ],
   "source": [
    "print (variable)"
   ]
  },
  {
   "cell_type": "code",
   "execution_count": 19,
   "metadata": {},
   "outputs": [
    {
     "name": "stdout",
     "output_type": "stream",
     "text": [
      "x is not None\n",
      "x is not None\n",
      "y is None (correct approach)\n"
     ]
    }
   ],
   "source": [
    "#None operator: While it works, this approach is generally not recommended \n",
    "#because it might lead to unexpected behavior if the variable accidentally holds a value of False or 0\n",
    "x = 0  # This is not None, but evaluates to False\n",
    "y = None\n",
    "if x == None:  # This might not behave as expected\n",
    "    print(\"x is None (might be misleading)\")\n",
    "else: \n",
    "   print (\"x is not None\")\n",
    "if x is None:  # This might not behave as expected\n",
    "    print(\"x is None (might be misleading)\")\n",
    "else: \n",
    "   print (\"x is not None\")\n",
    "if y is None:  # This correctly checks for None\n",
    "    print(\"y is None (correct approach)\")\n",
    "else:\n",
    "    print (\"y is not None\")"
   ]
  },
  {
   "cell_type": "code",
   "execution_count": 20,
   "metadata": {},
   "outputs": [
    {
     "name": "stdout",
     "output_type": "stream",
     "text": [
      "Welcome, Alice!\n"
     ]
    }
   ],
   "source": [
    "#Use the input() function to get data from the user and store it in a variable. \n",
    "#The input() function returns a string by default.\n",
    "\n",
    "\n",
    "\"\"\" In VSCode we need Code Runner to enter input data. \n",
    "If the Code Runner extension is not available in Visual Studio Code (Preferences --> settings --> search for \"Code Runner\"), \n",
    "you can try these steps:\n",
    "    Click the Extension icon\n",
    "    Search for Code Runner and press Enter\n",
    "    Click Code Runner\n",
    "    If Code Runner is not installed, click the Install button\n",
    "    If Code Runner is already installed, check if it is disabled and enable it if it is\n",
    "    Close VS Code and reopen it\"\"\"\n",
    "#user_name = input(\"Enter your name: \")\n",
    "user_name = \"Alice\"  # For testing purposes, you can assign a name directly\n",
    "print(f\"Welcome, {user_name}!\")"
   ]
  },
  {
   "cell_type": "markdown",
   "metadata": {},
   "source": [
    "Examples :\n",
    "1. Create a variable called break and assign it a value 5. See what happens and find out the reason behind the behavior that you see.\n",
    "\n",
    "2. Create two variables. One to store your birth year and another one to store current year. Now calculate your age using these two variables\n",
    "\n",
    "3. Store your first, middle and last name in three different variables and then print your full name using these variables\n",
    "\n",
    "4. Answer which of these are invalid variable names: _nation 1record record1 record_one record-one record^one continue\n",
    "\n",
    "5. You have a football field that is 92 meter long and 48.8 meter wide. Find out total area using python and print it.\n",
    "6. You bought 9 packets of potato chips from a store. Each packet costs 1.49 dollar and you gave shopkeeper 20 dollar. Find out using python, how many dollars is the shopkeeper going to give you back?\n",
    "7. You want to replace tiles in your bathroom which is exactly square and 5.5 feet is its length. If tiles cost 500 rs per square feet, how much will be the total cost to replace all tiles. Calculate and print the cost using python (Hint: Use power operator ** to find area of a square)\n",
    "8. Print binary representation of number 17\n",
    "9. A movie theater charges different prices for adults, children, and seniors.\n",
    "\n",
    "    Adults: $12.50\n",
    "\n",
    "    Children (under 12): $8.00\n",
    "\n",
    "    Seniors (over 65): $10.00\n",
    "\n",
    "    Write a Python program that asks the user for their age and then calculates the movie ticket price based on their age category. Print the appropriate price:\n",
    "10. An online store offers free shipping for orders above $50. Write a program that asks the user for the total amount of their shopping cart. If the amount is greater than or equal to $50, print \"Free shipping!\" else print \"Shipping charges apply.\"\n",
    "\n",
    "11. A year is a leap year if it is divisible by 4 (except for years divisible by 100 but not by 400). Write a Python program that asks the user for a year and Print \"Leap year!\" if the year is a leap year, otherwise print \"Not a leap year.\"\n",
    "12. Write a Python program that asks the user to enter a temperature value. It should then ask the user to specify the unit (Celsius 'C' or Fahrenheit 'F'). The program should:\n",
    "\n",
    "    Store the temperature and unit in separate variables.\n",
    "    Use an if-else statement to check the unit and convert the temperature accordingly (provide conversion logic for both directions or indicate that conversion is not supported for the entered unit using None).\n",
    "    Print the converted temperature with the appropriate unit label (e.g., \"32 degrees Fahrenheit\")."
   ]
  },
  {
   "cell_type": "code",
   "execution_count": null,
   "metadata": {},
   "outputs": [],
   "source": []
  }
 ],
 "metadata": {
  "kernelspec": {
   "display_name": "Python 3",
   "language": "python",
   "name": "python3"
  },
  "language_info": {
   "codemirror_mode": {
    "name": "ipython",
    "version": 3
   },
   "file_extension": ".py",
   "mimetype": "text/x-python",
   "name": "python",
   "nbconvert_exporter": "python",
   "pygments_lexer": "ipython3",
   "version": "3.9.13"
  }
 },
 "nbformat": 4,
 "nbformat_minor": 2
}
