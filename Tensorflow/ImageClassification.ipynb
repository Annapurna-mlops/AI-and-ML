{
 "cells": [
  {
   "cell_type": "code",
   "execution_count": 1,
   "id": "initial_id",
   "metadata": {
    "collapsed": true,
    "ExecuteTime": {
     "end_time": "2024-04-10T00:57:12.310162Z",
     "start_time": "2024-04-10T00:51:29.790013Z"
    }
   },
   "outputs": [
    {
     "name": "stderr",
     "output_type": "stream",
     "text": [
      "2024-04-09 19:51:31.794991: I tensorflow/core/platform/cpu_feature_guard.cc:210] This TensorFlow binary is optimized to use available CPU instructions in performance-critical operations.\n",
      "To enable the following instructions: AVX2 FMA, in other operations, rebuild TensorFlow with the appropriate compiler flags.\n"
     ]
    },
    {
     "name": "stdout",
     "output_type": "stream",
     "text": [
      "2.16.1\n",
      "Training model...\n",
      "Epoch 1/10\n",
      "\u001B[1m1875/1875\u001B[0m \u001B[32m━━━━━━━━━━━━━━━━━━━━\u001B[0m\u001B[37m\u001B[0m \u001B[1m36s\u001B[0m 19ms/step - accuracy: 0.7261 - loss: 0.7555 - val_accuracy: 0.8399 - val_loss: 0.4300\n",
      "Epoch 2/10\n",
      "\u001B[1m1875/1875\u001B[0m \u001B[32m━━━━━━━━━━━━━━━━━━━━\u001B[0m\u001B[37m\u001B[0m \u001B[1m32s\u001B[0m 17ms/step - accuracy: 0.8632 - loss: 0.3803 - val_accuracy: 0.8578 - val_loss: 0.3903\n",
      "Epoch 3/10\n",
      "\u001B[1m1875/1875\u001B[0m \u001B[32m━━━━━━━━━━━━━━━━━━━━\u001B[0m\u001B[37m\u001B[0m \u001B[1m31s\u001B[0m 17ms/step - accuracy: 0.8832 - loss: 0.3234 - val_accuracy: 0.8788 - val_loss: 0.3419\n",
      "Epoch 4/10\n",
      "\u001B[1m1875/1875\u001B[0m \u001B[32m━━━━━━━━━━━━━━━━━━━━\u001B[0m\u001B[37m\u001B[0m \u001B[1m32s\u001B[0m 17ms/step - accuracy: 0.8937 - loss: 0.2948 - val_accuracy: 0.8804 - val_loss: 0.3327\n",
      "Epoch 5/10\n",
      "\u001B[1m1875/1875\u001B[0m \u001B[32m━━━━━━━━━━━━━━━━━━━━\u001B[0m\u001B[37m\u001B[0m \u001B[1m35s\u001B[0m 19ms/step - accuracy: 0.8986 - loss: 0.2751 - val_accuracy: 0.8930 - val_loss: 0.3019\n",
      "Epoch 6/10\n",
      "\u001B[1m1875/1875\u001B[0m \u001B[32m━━━━━━━━━━━━━━━━━━━━\u001B[0m\u001B[37m\u001B[0m \u001B[1m34s\u001B[0m 18ms/step - accuracy: 0.9063 - loss: 0.2541 - val_accuracy: 0.8970 - val_loss: 0.2837\n",
      "Epoch 7/10\n",
      "\u001B[1m1875/1875\u001B[0m \u001B[32m━━━━━━━━━━━━━━━━━━━━\u001B[0m\u001B[37m\u001B[0m \u001B[1m33s\u001B[0m 18ms/step - accuracy: 0.9122 - loss: 0.2385 - val_accuracy: 0.8987 - val_loss: 0.2824\n",
      "Epoch 8/10\n",
      "\u001B[1m1875/1875\u001B[0m \u001B[32m━━━━━━━━━━━━━━━━━━━━\u001B[0m\u001B[37m\u001B[0m \u001B[1m34s\u001B[0m 18ms/step - accuracy: 0.9194 - loss: 0.2224 - val_accuracy: 0.8939 - val_loss: 0.2955\n",
      "Epoch 9/10\n",
      "\u001B[1m1875/1875\u001B[0m \u001B[32m━━━━━━━━━━━━━━━━━━━━\u001B[0m\u001B[37m\u001B[0m \u001B[1m34s\u001B[0m 18ms/step - accuracy: 0.9190 - loss: 0.2207 - val_accuracy: 0.9021 - val_loss: 0.2816\n",
      "Epoch 10/10\n",
      "\u001B[1m1875/1875\u001B[0m \u001B[32m━━━━━━━━━━━━━━━━━━━━\u001B[0m\u001B[37m\u001B[0m \u001B[1m34s\u001B[0m 18ms/step - accuracy: 0.9239 - loss: 0.2050 - val_accuracy: 0.8983 - val_loss: 0.2833\n",
      "Evaluating model...\n",
      "\u001B[1m313/313\u001B[0m \u001B[32m━━━━━━━━━━━━━━━━━━━━\u001B[0m\u001B[37m\u001B[0m \u001B[1m1s\u001B[0m 3ms/step - accuracy: 0.8982 - loss: 0.2933\n"
     ]
    },
    {
     "name": "stderr",
     "output_type": "stream",
     "text": [
      "WARNING:absl:You are saving your model as an HDF5 file via `model.save()` or `keras.saving.save_model(model)`. This file format is considered legacy. We recommend using instead the native Keras format, e.g. `model.save('my_model.keras')` or `keras.saving.save_model(model, 'my_model.keras')`. \n"
     ]
    }
   ],
   "source": [
    "\"\"\"\n",
    "This script should train a TensorFlow model on the fashion MNIST \n",
    "dataset to ~90% test accuracy.\n",
    "\n",
    "It'll save the model to the current directory using the \".h5\" extension.\n",
    "\n",
    "You can use it to test if your local machine is fast enough to complete the\n",
    "TensorFlow Developer Certification.\n",
    "\n",
    "If this script runs in under 5-10 minutes through PyCharm, you're good to go.\n",
    "\n",
    "The models/datasets in the exam are similar to the ones used in this script.\n",
    "\"\"\"\n",
    "import tensorflow as tf\n",
    "from tensorflow.keras import datasets, layers\n",
    "\n",
    "# Check version of TensorFlow (exam requires a certain version)\n",
    "# See for version: https://www.tensorflow.org/extras/cert/Setting_Up_TF_Developer_Certificate_Exam.pdf \n",
    "print(tf.__version__)\n",
    "\n",
    "# Get data\n",
    "(train_images, train_labels), (test_images, test_labels) = datasets.fashion_mnist.load_data()\n",
    "\n",
    "# Normalize images (get values between 0 & 1)\n",
    "train_images, test_images = train_images / 255.0, test_images / 255.0 \n",
    "\n",
    "# Check shape of input data\n",
    "# print(train_images.shape)\n",
    "# print(train_labels.shape)\n",
    "\n",
    "# Build model\n",
    "model = tf.keras.Sequential([\n",
    "    # Reshape inputs to be compatible with Conv2D layer\n",
    "    layers.Lambda(lambda x: tf.expand_dims(x, axis=-1)),\n",
    "    layers.Conv2D(32, 3, activation=\"relu\"),\n",
    "    layers.MaxPool2D(),\n",
    "    layers.Conv2D(32, 3, activation=\"relu\"),\n",
    "    layers.MaxPool2D(),\n",
    "    layers.Conv2D(32, 3, activation=\"relu\"),\n",
    "    layers.Flatten(), # flatten outputs of final Conv layer to be suited for final Dense layer\n",
    "    layers.Dense(10, activation=\"softmax\")\n",
    "])\n",
    "\n",
    "# Compile model \n",
    "model.compile(loss=\"sparse_categorical_crossentropy\", # if labels aren't one-hot use sparse (if labels are one-hot, drop sparse)\n",
    "              optimizer=tf.keras.optimizers.Adam(),\n",
    "              metrics=[\"accuracy\"])\n",
    "\n",
    "# Fit model\n",
    "print(\"Training model...\")\n",
    "model.fit(x=train_images,\n",
    "          y=train_labels,\n",
    "          epochs=10,\n",
    "          validation_data=(test_images, test_labels))\n",
    "\n",
    "# Evaluate model \n",
    "print(\"Evaluating model...\")\n",
    "model.evaluate(test_images, test_labels)\n",
    "\n",
    "# Save model to current working directory\n",
    "model.save(\"test_image_model.h5\")"
   ]
  },
  {
   "cell_type": "code",
   "outputs": [],
   "source": [],
   "metadata": {
    "collapsed": false
   },
   "id": "3893f63931419449"
  }
 ],
 "metadata": {
  "kernelspec": {
   "display_name": "Python 3",
   "language": "python",
   "name": "python3"
  },
  "language_info": {
   "codemirror_mode": {
    "name": "ipython",
    "version": 2
   },
   "file_extension": ".py",
   "mimetype": "text/x-python",
   "name": "python",
   "nbconvert_exporter": "python",
   "pygments_lexer": "ipython2",
   "version": "2.7.6"
  }
 },
 "nbformat": 4,
 "nbformat_minor": 5
}
