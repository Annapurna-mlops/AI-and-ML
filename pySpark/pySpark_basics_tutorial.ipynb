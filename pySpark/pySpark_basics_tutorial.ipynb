{
 "cells": [
  {
   "cell_type": "code",
   "execution_count": 2,
   "metadata": {},
   "outputs": [],
   "source": [
    "import os\n",
    "os.environ['SPARK_HOME'] = \"/Users/admin/Applications/Spark\"\n",
    "os.environ['PYSPARK_DRIVER_PYTHON'] =\"jupyter\"\n",
    "os.environ['PYSPARK_DRIVER_PYTHON_OPTS'] = 'lab'   # Notebook also\n",
    "os.environ['PYSPARK_PYTHON']= 'python3'"
   ]
  },
  {
   "cell_type": "code",
   "execution_count": 3,
   "metadata": {},
   "outputs": [],
   "source": [
    "from pyspark.sql import SparkSession\n",
    "\n",
    "# SparkSession is the entry point to create sctructed data"
   ]
  },
  {
   "cell_type": "markdown",
   "metadata": {},
   "source": [
    "SparkSession is the entry point for programming with Apache Spark in Python. It's a unified interface that provides functionalities for working with various data sources, performing data transformations and analytics, and interacting with Spark's distributed processing capabilities.\n",
    "\n",
    "Here's a breakdown of SparkSession's key aspects:\n",
    "\n",
    "**Responsibilities:**\n",
    "\n",
    "- **Creating a Spark Context:** SparkSession acts as a wrapper around the SparkContext, which manages the connection to the Spark cluster and resources.\n",
    "- **Working with DataFrames and Datasets:** It provides methods for creating, manipulating, and querying DataFrames and Datasets, the primary data structures in Spark for structured data processing.\n",
    "- **Accessing Data Sources:** SparkSession allows you to read data from diverse sources like CSV, JSON, Parquet, databases, and more. It also facilitates writing results to various destinations.\n",
    "- **Running SQL Queries:** You can use Spark SQL syntax within SparkSession to perform data analysis and transformations on DataFrames.\n",
    "\n",
    "**Benefits of Using SparkSession:**\n",
    "\n",
    "- **Unified Interface:** It simplifies Spark programming by offering a single entry point for interacting with different Spark functionalities.\n",
    "- **Type Safety:** DataFrames and Datasets provide some level of type safety compared to traditional RDDs (Resilient Distributed Datasets) used in earlier Spark versions.\n",
    "- **Integration with SQL:** Spark SQL allows you to leverage familiar SQL syntax for data manipulation within Spark.\n",
    "- **Distributed Processing:** SparkSession facilitates distributed processing of large datasets across a cluster, enabling efficient big data analytics.\n",
    "\n",
    "**Creating a SparkSession:**\n",
    "\n",
    "```python\n",
    "from pyspark.sql import SparkSession\n",
    "\n",
    "# Create a SparkSession with optional configurations\n",
    "spark = SparkSession.builder \\\n",
    "    .appName(\"My Spark Application\") \\\n",
    "    .getOrCreate()\n",
    "\n",
    "# Use SparkSession methods to work with data, SQL queries, etc.\n",
    "spark.read.csv(\"data.csv\").show()  # Read CSV data\n",
    "\n",
    "# Stop the SparkSession when finished\n",
    "spark.stop()\n",
    "```\n",
    "\n",
    "**Common Use Cases:**\n",
    "\n",
    "- **Large-scale data processing and analytics**\n",
    "- **Machine learning with Spark MLlib or other Spark-compatible libraries**\n",
    "- **Real-time data streaming with Spark Streaming**\n",
    "- **Building data pipelines for data ingestion, transformation, and analysis**\n",
    "\n",
    "**In Summary:**\n",
    "\n",
    "SparkSession is a crucial component for working with Apache Spark in Python. It provides a user-friendly interface for data processing, SQL queries, and distributed computing, making it a powerful tool for big data analytics.\n"
   ]
  },
  {
   "cell_type": "code",
   "execution_count": null,
   "metadata": {},
   "outputs": [],
   "source": [
    "# Create Spark Session \n",
    "spark = SparkSession.builder \\\n",
    "                    .appName(\"my-pyspark-session-1\") \\\n",
    "                    .getOrCreate()"
   ]
  }
 ],
 "metadata": {
  "kernelspec": {
   "display_name": "Python 3",
   "language": "python",
   "name": "python3"
  },
  "language_info": {
   "codemirror_mode": {
    "name": "ipython",
    "version": 3
   },
   "file_extension": ".py",
   "mimetype": "text/x-python",
   "name": "python",
   "nbconvert_exporter": "python",
   "pygments_lexer": "ipython3",
   "version": "3.12.4"
  }
 },
 "nbformat": 4,
 "nbformat_minor": 2
}
